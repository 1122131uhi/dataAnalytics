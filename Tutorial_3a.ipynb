{
  "nbformat": 4,
  "nbformat_minor": 0,
  "metadata": {
    "colab": {
      "name": "Tutorial 3a.ipynb",
      "provenance": [],
      "collapsed_sections": [],
      "include_colab_link": true
    },
    "kernelspec": {
      "name": "python3",
      "display_name": "Python 3"
    }
  },
  "cells": [
    {
      "cell_type": "markdown",
      "metadata": {
        "id": "view-in-github",
        "colab_type": "text"
      },
      "source": [
        "<a href=\"https://colab.research.google.com/github/1122131uhi/dataAnalytics/blob/master/Tutorial_3a.ipynb\" target=\"_parent\"><img src=\"https://colab.research.google.com/assets/colab-badge.svg\" alt=\"Open In Colab\"/></a>"
      ]
    },
    {
      "cell_type": "markdown",
      "metadata": {
        "id": "4w9sEQx-NFJv"
      },
      "source": [
        "In this tutorial we will train and test a linear regressor. This is something you have already done in part 3 of the course document. So, I will miss out all of the extra notes and just get to business."
      ]
    },
    {
      "cell_type": "code",
      "metadata": {
        "id": "2p-7cPGENClE"
      },
      "source": [
        "# needed to create the data frame",
        "\n",
        "import pandas as pd",
        "\n",
        "\n",
        "# needed to help with speedy maths based calculations",
        "\n",
        "import numpy as np",
        "\n",
        "\n",
        "# create data frame from csv file we hosted on our github",
        "\n",
        "df = pd.read_csv('https://raw.githubusercontent.com/1122131uhi/dataAnalytics/master/tutorial2lineardata.csv', index_col=0, )"
      ],
      "execution_count": 1,
      "outputs": []
    },
    {
      "cell_type": "code",
      "metadata": {
        "id": "DEw-Y4JWNkh1",
        "outputId": "f2c084b5-4c15-4b7a-8cb0-30d47a7f0b16",
        "colab": {
          "base_uri": "https://localhost:8080/",
          "height": 136
        }
      },
      "source": [
        "# make sure we have our data by printing it out\n",
        "print(df[:6])\n",
        "# print(df) #all"
      ],
      "execution_count": 2,
      "outputs": [
        {
          "output_type": "stream",
          "text": [
            "    day  temp  wdsp  NUM_TRIPS\n",
            "2     6  20.0   7.4   0.631126\n",
            "3     7  30.0  10.8   0.724951\n",
            "6     3  30.4   5.7   0.716044\n",
            "8     5  37.9  16.4   0.799994\n",
            "9     6  25.7  13.8   0.872611\n",
            "10    7  21.6   6.9   0.809792\n"
          ],
          "name": "stdout"
        }
      ]
    },
    {
      "cell_type": "code",
      "metadata": {
        "id": "U4FV9fPUOkvw",
        "outputId": "d48fc470-7ab8-4aab-a71e-e41c4b988448",
        "colab": {
          "base_uri": "https://localhost:8080/",
          "height": 136
        }
      },
      "source": [
        "# needed to help with speedy maths based calculations\n",
        "import numpy as np\n",
        "\n",
        "# iloc allows us to select by rows. Here, we are shuffling the data by rows determined at random.\n",
        "shuffle = df.iloc[np.random.permutation(len(df))]\n",
        "\n",
        "# we are selecting all rows of the columns outliined i.e. The 3rd (2 as indexes start from 0)\n",
        "predictors = shuffle.iloc[:,0:3]\n",
        "# Since it is the last column, we can also use\n",
        "# predictorTest = shuffle.iloc[:,-1]\n",
        "\n",
        "# print out the first 6 rows of predictors.\n",
        "print(predictors[:6])"
      ],
      "execution_count": 3,
      "outputs": [
        {
          "output_type": "stream",
          "text": [
            "      day  temp  wdsp\n",
            "405     3  27.4   9.5\n",
            "87      7  43.4   5.0\n",
            "1087    6  47.4   4.9\n",
            "372     5  27.1   9.4\n",
            "252     4  61.6   7.2\n",
            "1057    4  47.6   6.7\n"
          ],
          "name": "stdout"
        }
      ]
    },
    {
      "cell_type": "code",
      "metadata": {
        "id": "v-gahQCyO6BJ",
        "outputId": "b5caa785-1731-4a1a-8060-c7397892cadd",
        "colab": {
          "base_uri": "https://localhost:8080/",
          "height": 204
        }
      },
      "source": [
        "# print out the shuffled data (first 5 rows)\n",
        "shuffle[:5]"
      ],
      "execution_count": 4,
      "outputs": [
        {
          "output_type": "execute_result",
          "data": {
            "text/html": [
              "<div>\n",
              "<style scoped>\n",
              "    .dataframe tbody tr th:only-of-type {\n",
              "        vertical-align: middle;\n",
              "    }\n",
              "\n",
              "    .dataframe tbody tr th {\n",
              "        vertical-align: top;\n",
              "    }\n",
              "\n",
              "    .dataframe thead th {\n",
              "        text-align: right;\n",
              "    }\n",
              "</style>\n",
              "<table border=\"1\" class=\"dataframe\">\n",
              "  <thead>\n",
              "    <tr style=\"text-align: right;\">\n",
              "      <th></th>\n",
              "      <th>day</th>\n",
              "      <th>temp</th>\n",
              "      <th>wdsp</th>\n",
              "      <th>NUM_TRIPS</th>\n",
              "    </tr>\n",
              "  </thead>\n",
              "  <tbody>\n",
              "    <tr>\n",
              "      <th>405</th>\n",
              "      <td>3</td>\n",
              "      <td>27.4</td>\n",
              "      <td>9.5</td>\n",
              "      <td>0.771915</td>\n",
              "    </tr>\n",
              "    <tr>\n",
              "      <th>87</th>\n",
              "      <td>7</td>\n",
              "      <td>43.4</td>\n",
              "      <td>5.0</td>\n",
              "      <td>0.860430</td>\n",
              "    </tr>\n",
              "    <tr>\n",
              "      <th>1087</th>\n",
              "      <td>6</td>\n",
              "      <td>47.4</td>\n",
              "      <td>4.9</td>\n",
              "      <td>0.799774</td>\n",
              "    </tr>\n",
              "    <tr>\n",
              "      <th>372</th>\n",
              "      <td>5</td>\n",
              "      <td>27.1</td>\n",
              "      <td>9.4</td>\n",
              "      <td>0.838513</td>\n",
              "    </tr>\n",
              "    <tr>\n",
              "      <th>252</th>\n",
              "      <td>4</td>\n",
              "      <td>61.6</td>\n",
              "      <td>7.2</td>\n",
              "      <td>0.818874</td>\n",
              "    </tr>\n",
              "  </tbody>\n",
              "</table>\n",
              "</div>"
            ],
            "text/plain": [
              "      day  temp  wdsp  NUM_TRIPS\n",
              "405     3  27.4   9.5   0.771915\n",
              "87      7  43.4   5.0   0.860430\n",
              "1087    6  47.4   4.9   0.799774\n",
              "372     5  27.1   9.4   0.838513\n",
              "252     4  61.6   7.2   0.818874"
            ]
          },
          "metadata": {
            "tags": []
          },
          "execution_count": 4
        }
      ]
    },
    {
      "cell_type": "code",
      "metadata": {
        "id": "hceMJGRGPPbl",
        "outputId": "73f3832b-c36a-44c9-f9f5-d7c968a5f20f",
        "colab": {
          "base_uri": "https://localhost:8080/",
          "height": 136
        }
      },
      "source": [
        "# Select all rows for the 2nd column (i.e. 1)\n",
        "targets = shuffle.iloc[:,3]\n",
        "\n",
        "# print out the first 6 rows of the targets data.\n",
        "print(targets[:6])"
      ],
      "execution_count": 5,
      "outputs": [
        {
          "output_type": "stream",
          "text": [
            "405     0.771915\n",
            "87      0.860430\n",
            "1087    0.799774\n",
            "372     0.838513\n",
            "252     0.818874\n",
            "1057    0.797393\n",
            "Name: NUM_TRIPS, dtype: float64\n"
          ],
          "name": "stdout"
        }
      ]
    },
    {
      "cell_type": "code",
      "metadata": {
        "id": "vTMxwMfGPdWJ"
      },
      "source": [
        "# A scale is not required here, but the constant will be useful in the assignment.\n",
        "SCALE_NUM_TRIPS = 1.0"
      ],
      "execution_count": 6,
      "outputs": []
    },
    {
      "cell_type": "code",
      "metadata": {
        "id": "xbgNNZYkPkCA"
      },
      "source": [
        "# Split our data into a training set i.e. 80% of the length of the shuffle array\n",
        "trainsize = int(len(shuffle['NUM_TRIPS'])*0.8)\n",
        "# The test set size is 100% - 80% = 20% of the length of the shuffle array.\n",
        "testsize = len(shuffle['NUM_TRIPS']) - trainsize\n",
        "\n",
        "# Define the number of input values (predictors)\n",
        "nppredictors = 3\n",
        "# Define the number of output values (targets)\n",
        "noutputs = 1"
      ],
      "execution_count": 7,
      "outputs": []
    },
    {
      "cell_type": "code",
      "metadata": {
        "id": "maFRZkDkQdpA",
        "outputId": "56052729-ede5-41fc-929f-ae0cda0419d0",
        "colab": {
          "base_uri": "https://localhost:8080/",
          "height": 1000
        }
      },
      "source": [
        "# import tensorflow\n",
        "# %tensorflow_version 1.x\n",
        "!pip install tensorflow==1.15.2\n",
        "import tensorflow as tf\n",
        "\n",
        "# check the version\n",
        "print(tf.__version__)\n",
        "\n",
        "# needed for high-level file management\n",
        "import shutil  \n",
        "\n",
        "# logging for tensorflow\n",
        "tf.compat.v1.logging.set_verbosity(tf.compat.v1.logging.INFO)\n",
        "\n",
        "# removes a saved model from the last training attempt.\n",
        "shutil.rmtree('/tmp/linear_regression_trained_model', ignore_errors=True)\n",
        "\n",
        "# This is the core of our linear regressor\n",
        "\n",
        "# You can see that we save the model, use the the Adam optimization algorithm, which is an extension \n",
        "# to stochastic gradient descent that has recently seen broader adoption for deep learning applications \n",
        "# in computer vision and natural language processing and infer real valued columns from input which interprets \n",
        "# all inputs as dense, fixed-length float values.\n",
        "\n",
        "# See the link for more information\n",
        "# https://www.tensorflow.org/versions/r1.15/api_docs/python/tf/contrib/learn/LinearRegressor\n",
        "estimator = tf.contrib.learn.SKCompat(tf.contrib.learn.LinearRegressor(model_dir='/tmp/linear_regression_trained_model', optimizer=tf.train.AdamOptimizer(learning_rate=0.1), enable_centered_bias=False, feature_columns=tf.contrib.learn.infer_real_valued_columns_from_input(predictors.values)))\n",
        "\n",
        "# Prints a log to show model is starting to train\n",
        "print(\"starting to train\");\n",
        "\n",
        "# Train the model. Pass in predictor values and target values.\n",
        "estimator.fit(predictors[:trainsize].values, targets[:trainsize].values.reshape(trainsize, noutputs)/SCALE_NUM_TRIPS, steps=10000)\n",
        "\n",
        "# Next, we can check our predictions based on our predictors.\n",
        "preds = estimator.predict(x=predictors[trainsize:].values)\n",
        "\n",
        "# Apply the Scale value (not really needed here) to the outputs.\n",
        "predslistscale = preds['scores']*SCALE_NUM_TRIPS\n",
        "\n",
        "# pred = format(str(predslistscale)) # useful for checking outputs and printing.\n",
        "\n",
        "# Calculate RMSE i.e. how good the model works using the predictions and targets.\n",
        "# i.e. take the difference between the actual and the forecast then square the difference, \n",
        "# find the average of all the squares and then find the square root. \n",
        "# The RMSE essentially punishes larger errors i.e. it puts a heavier weight on larger errors.\n",
        "rmse = np.sqrt(np.mean((targets[trainsize:].values - predslistscale)**2))\n",
        "print('LinearRegression has RMSE of {0}'.format(rmse));\n",
        "\n",
        "\n",
        "# Calculate the mean of the Number of Taxi Trips Values.\n",
        "avg = np.mean(shuffle['NUM_TRIPS'][:trainsize])\n",
        "\n",
        "# Calculate the RMSE using Number of Taxi Trips Values and the mean of all target values.\n",
        "# The fit of a proposed regression model should therefore be better than the fit of the mean model.\n",
        "# In this case, it doesn't seem to be the case but it will vary on every run.\n",
        "rmse = np.sqrt(np.mean((shuffle['NUM_TRIPS'][trainsize:] - avg)**2))\n",
        "print('Just using average = {0} has RMSE of {1}'.format(avg, rmse));"
      ],
      "execution_count": 9,
      "outputs": [
        {
          "output_type": "stream",
          "text": [
            "1.15.2\n",
            "WARNING:tensorflow:float64 is not supported by many models, consider casting to float32.\n",
            "INFO:tensorflow:Using default config.\n",
            "INFO:tensorflow:Using config: {'_task_type': None, '_task_id': 0, '_cluster_spec': <tensorflow.python.training.server_lib.ClusterSpec object at 0x7f33448768d0>, '_master': '', '_num_ps_replicas': 0, '_num_worker_replicas': 0, '_environment': 'local', '_is_chief': True, '_evaluation_master': '', '_train_distribute': None, '_eval_distribute': None, '_experimental_max_worker_delay_secs': None, '_device_fn': None, '_tf_config': gpu_options {\n",
            "  per_process_gpu_memory_fraction: 1.0\n",
            "}\n",
            ", '_tf_random_seed': None, '_save_summary_steps': 100, '_save_checkpoints_secs': 600, '_log_step_count_steps': 100, '_protocol': None, '_session_config': None, '_save_checkpoints_steps': None, '_keep_checkpoint_max': 5, '_keep_checkpoint_every_n_hours': 10000, '_model_dir': '/tmp/linear_regression_trained_model', '_session_creation_timeout_secs': 7200}\n",
            "starting to train\n",
            "WARNING:tensorflow:float64 is not supported by many models, consider casting to float32.\n",
            "WARNING:tensorflow:float64 is not supported by many models, consider casting to float32.\n",
            "INFO:tensorflow:Create CheckpointSaverHook.\n",
            "INFO:tensorflow:Graph was finalized.\n",
            "INFO:tensorflow:Running local_init_op.\n",
            "INFO:tensorflow:Done running local_init_op.\n",
            "INFO:tensorflow:Saving checkpoints for 0 into /tmp/linear_regression_trained_model/model.ckpt.\n",
            "INFO:tensorflow:loss = 0.6878343, step = 1\n",
            "INFO:tensorflow:global_step/sec: 804.555\n",
            "INFO:tensorflow:loss = 0.017638722, step = 101 (0.126 sec)\n",
            "INFO:tensorflow:global_step/sec: 1042.01\n",
            "INFO:tensorflow:loss = 0.009215418, step = 201 (0.096 sec)\n",
            "INFO:tensorflow:global_step/sec: 982.273\n",
            "INFO:tensorflow:loss = 0.004691908, step = 301 (0.103 sec)\n",
            "INFO:tensorflow:global_step/sec: 983.846\n",
            "INFO:tensorflow:loss = 0.0037828272, step = 401 (0.103 sec)\n",
            "INFO:tensorflow:global_step/sec: 983.028\n",
            "INFO:tensorflow:loss = 0.004264704, step = 501 (0.100 sec)\n",
            "INFO:tensorflow:global_step/sec: 1025.76\n",
            "INFO:tensorflow:loss = 0.0031532552, step = 601 (0.099 sec)\n",
            "INFO:tensorflow:global_step/sec: 1013.99\n",
            "INFO:tensorflow:loss = 0.003303848, step = 701 (0.099 sec)\n",
            "INFO:tensorflow:global_step/sec: 1024.28\n",
            "INFO:tensorflow:loss = 0.0038750349, step = 801 (0.097 sec)\n",
            "INFO:tensorflow:global_step/sec: 993.365\n",
            "INFO:tensorflow:loss = 0.0053168563, step = 901 (0.101 sec)\n",
            "INFO:tensorflow:global_step/sec: 1017.23\n",
            "INFO:tensorflow:loss = 0.009110026, step = 1001 (0.097 sec)\n",
            "INFO:tensorflow:global_step/sec: 979.888\n",
            "INFO:tensorflow:loss = 0.004101913, step = 1101 (0.106 sec)\n",
            "INFO:tensorflow:global_step/sec: 936.137\n",
            "INFO:tensorflow:loss = 0.0037866724, step = 1201 (0.103 sec)\n",
            "INFO:tensorflow:global_step/sec: 934.774\n",
            "INFO:tensorflow:loss = 0.005700789, step = 1301 (0.106 sec)\n",
            "INFO:tensorflow:global_step/sec: 1036.76\n",
            "INFO:tensorflow:loss = 0.011501978, step = 1401 (0.097 sec)\n",
            "INFO:tensorflow:global_step/sec: 999.979\n",
            "INFO:tensorflow:loss = 0.003970312, step = 1501 (0.100 sec)\n",
            "INFO:tensorflow:global_step/sec: 1029.18\n",
            "INFO:tensorflow:loss = 0.0051031136, step = 1601 (0.098 sec)\n",
            "INFO:tensorflow:global_step/sec: 978.809\n",
            "INFO:tensorflow:loss = 0.035611473, step = 1701 (0.104 sec)\n",
            "INFO:tensorflow:global_step/sec: 974.798\n",
            "INFO:tensorflow:loss = 0.07429397, step = 1801 (0.100 sec)\n",
            "INFO:tensorflow:global_step/sec: 979.664\n",
            "INFO:tensorflow:loss = 0.018260615, step = 1901 (0.104 sec)\n",
            "INFO:tensorflow:global_step/sec: 1008.02\n",
            "INFO:tensorflow:loss = 0.09913389, step = 2001 (0.097 sec)\n",
            "INFO:tensorflow:global_step/sec: 911.67\n",
            "INFO:tensorflow:loss = 0.034695305, step = 2101 (0.109 sec)\n",
            "INFO:tensorflow:global_step/sec: 990.444\n",
            "INFO:tensorflow:loss = 0.013835115, step = 2201 (0.104 sec)\n",
            "INFO:tensorflow:global_step/sec: 997.376\n",
            "INFO:tensorflow:loss = 0.02402969, step = 2301 (0.098 sec)\n",
            "INFO:tensorflow:global_step/sec: 1050.81\n",
            "INFO:tensorflow:loss = 0.04636327, step = 2401 (0.098 sec)\n",
            "INFO:tensorflow:global_step/sec: 1004.94\n",
            "INFO:tensorflow:loss = 0.0034592464, step = 2501 (0.097 sec)\n",
            "INFO:tensorflow:global_step/sec: 1021.66\n",
            "INFO:tensorflow:loss = 0.0064376807, step = 2601 (0.101 sec)\n",
            "INFO:tensorflow:global_step/sec: 980.963\n",
            "INFO:tensorflow:loss = 0.0031883363, step = 2701 (0.100 sec)\n",
            "INFO:tensorflow:global_step/sec: 1004.06\n",
            "INFO:tensorflow:loss = 0.06492121, step = 2801 (0.099 sec)\n",
            "INFO:tensorflow:global_step/sec: 996.551\n",
            "INFO:tensorflow:loss = 0.03157676, step = 2901 (0.103 sec)\n",
            "INFO:tensorflow:global_step/sec: 1002.19\n",
            "INFO:tensorflow:loss = 0.0028009869, step = 3001 (0.098 sec)\n",
            "INFO:tensorflow:global_step/sec: 975.553\n",
            "INFO:tensorflow:loss = 0.0058782124, step = 3101 (0.104 sec)\n",
            "INFO:tensorflow:global_step/sec: 998.748\n",
            "INFO:tensorflow:loss = 0.039698616, step = 3201 (0.101 sec)\n",
            "INFO:tensorflow:global_step/sec: 993.497\n",
            "INFO:tensorflow:loss = 0.004307651, step = 3301 (0.101 sec)\n",
            "INFO:tensorflow:global_step/sec: 963.871\n",
            "INFO:tensorflow:loss = 0.014045428, step = 3401 (0.105 sec)\n",
            "INFO:tensorflow:global_step/sec: 984.391\n",
            "INFO:tensorflow:loss = 0.027199747, step = 3501 (0.098 sec)\n",
            "INFO:tensorflow:global_step/sec: 1003.42\n",
            "INFO:tensorflow:loss = 0.06094388, step = 3601 (0.102 sec)\n",
            "INFO:tensorflow:global_step/sec: 1004.91\n",
            "INFO:tensorflow:loss = 0.0029407889, step = 3701 (0.101 sec)\n",
            "INFO:tensorflow:global_step/sec: 932.868\n",
            "INFO:tensorflow:loss = 0.044091832, step = 3801 (0.107 sec)\n",
            "INFO:tensorflow:global_step/sec: 975.166\n",
            "INFO:tensorflow:loss = 0.10524971, step = 3901 (0.100 sec)\n",
            "INFO:tensorflow:global_step/sec: 1007.19\n",
            "INFO:tensorflow:loss = 0.021269225, step = 4001 (0.100 sec)\n",
            "INFO:tensorflow:global_step/sec: 953.851\n",
            "INFO:tensorflow:loss = 0.005640912, step = 4101 (0.103 sec)\n",
            "INFO:tensorflow:global_step/sec: 1033.93\n",
            "INFO:tensorflow:loss = 0.0037108099, step = 4201 (0.099 sec)\n",
            "INFO:tensorflow:global_step/sec: 1014.77\n",
            "INFO:tensorflow:loss = 0.011293614, step = 4301 (0.099 sec)\n",
            "INFO:tensorflow:global_step/sec: 1031.21\n",
            "INFO:tensorflow:loss = 0.016532324, step = 4401 (0.095 sec)\n",
            "INFO:tensorflow:global_step/sec: 1047.68\n",
            "INFO:tensorflow:loss = 0.0062138014, step = 4501 (0.095 sec)\n",
            "INFO:tensorflow:global_step/sec: 1025.11\n",
            "INFO:tensorflow:loss = 0.0059687095, step = 4601 (0.098 sec)\n",
            "INFO:tensorflow:global_step/sec: 1019.54\n",
            "INFO:tensorflow:loss = 0.030448878, step = 4701 (0.099 sec)\n",
            "INFO:tensorflow:global_step/sec: 1028.41\n",
            "INFO:tensorflow:loss = 0.0038236368, step = 4801 (0.098 sec)\n",
            "INFO:tensorflow:global_step/sec: 1039.08\n",
            "INFO:tensorflow:loss = 0.017343596, step = 4901 (0.095 sec)\n",
            "INFO:tensorflow:global_step/sec: 1036.74\n",
            "INFO:tensorflow:loss = 0.00803156, step = 5001 (0.096 sec)\n",
            "INFO:tensorflow:global_step/sec: 985.17\n",
            "INFO:tensorflow:loss = 0.07306736, step = 5101 (0.102 sec)\n",
            "INFO:tensorflow:global_step/sec: 1022.35\n",
            "INFO:tensorflow:loss = 0.013627786, step = 5201 (0.098 sec)\n",
            "INFO:tensorflow:global_step/sec: 1038.37\n",
            "INFO:tensorflow:loss = 0.05008363, step = 5301 (0.099 sec)\n",
            "INFO:tensorflow:global_step/sec: 1020.96\n",
            "INFO:tensorflow:loss = 0.021497536, step = 5401 (0.095 sec)\n",
            "INFO:tensorflow:global_step/sec: 1032.56\n",
            "INFO:tensorflow:loss = 0.0036670547, step = 5501 (0.097 sec)\n",
            "INFO:tensorflow:global_step/sec: 968.319\n",
            "INFO:tensorflow:loss = 0.08541392, step = 5601 (0.107 sec)\n",
            "INFO:tensorflow:global_step/sec: 967.687\n",
            "INFO:tensorflow:loss = 0.040506236, step = 5701 (0.100 sec)\n",
            "INFO:tensorflow:global_step/sec: 1001.02\n",
            "INFO:tensorflow:loss = 0.005076889, step = 5801 (0.101 sec)\n",
            "INFO:tensorflow:global_step/sec: 1015.03\n",
            "INFO:tensorflow:loss = 0.0143312095, step = 5901 (0.100 sec)\n",
            "INFO:tensorflow:global_step/sec: 1014.88\n",
            "INFO:tensorflow:loss = 0.022102173, step = 6001 (0.098 sec)\n",
            "INFO:tensorflow:global_step/sec: 967.176\n",
            "INFO:tensorflow:loss = 0.039096713, step = 6101 (0.104 sec)\n",
            "INFO:tensorflow:global_step/sec: 1013.18\n",
            "INFO:tensorflow:loss = 0.0030305916, step = 6201 (0.095 sec)\n",
            "INFO:tensorflow:global_step/sec: 1031.36\n",
            "INFO:tensorflow:loss = 0.0040121796, step = 6301 (0.099 sec)\n",
            "INFO:tensorflow:global_step/sec: 1011.63\n",
            "INFO:tensorflow:loss = 0.03346652, step = 6401 (0.097 sec)\n",
            "INFO:tensorflow:global_step/sec: 954.959\n",
            "INFO:tensorflow:loss = 0.022031877, step = 6501 (0.105 sec)\n",
            "INFO:tensorflow:global_step/sec: 1047.19\n",
            "INFO:tensorflow:loss = 0.005930284, step = 6601 (0.098 sec)\n",
            "INFO:tensorflow:global_step/sec: 947.12\n",
            "INFO:tensorflow:loss = 0.0037891837, step = 6701 (0.104 sec)\n",
            "INFO:tensorflow:global_step/sec: 986.753\n",
            "INFO:tensorflow:loss = 0.03115718, step = 6801 (0.100 sec)\n",
            "INFO:tensorflow:global_step/sec: 1044.53\n",
            "INFO:tensorflow:loss = 0.0065114154, step = 6901 (0.096 sec)\n",
            "INFO:tensorflow:global_step/sec: 1036.2\n",
            "INFO:tensorflow:loss = 0.022661883, step = 7001 (0.098 sec)\n",
            "INFO:tensorflow:global_step/sec: 1037.81\n",
            "INFO:tensorflow:loss = 0.004734263, step = 7101 (0.094 sec)\n",
            "INFO:tensorflow:global_step/sec: 962.045\n",
            "INFO:tensorflow:loss = 0.0035336907, step = 7201 (0.112 sec)\n",
            "INFO:tensorflow:global_step/sec: 950.021\n",
            "INFO:tensorflow:loss = 0.040729154, step = 7301 (0.098 sec)\n",
            "INFO:tensorflow:global_step/sec: 1025.98\n",
            "INFO:tensorflow:loss = 0.063250884, step = 7401 (0.099 sec)\n",
            "INFO:tensorflow:global_step/sec: 1021.32\n",
            "INFO:tensorflow:loss = 0.0034279502, step = 7501 (0.096 sec)\n",
            "INFO:tensorflow:global_step/sec: 1017.97\n",
            "INFO:tensorflow:loss = 0.0042121075, step = 7601 (0.098 sec)\n",
            "INFO:tensorflow:global_step/sec: 1017.02\n",
            "INFO:tensorflow:loss = 0.004286916, step = 7701 (0.098 sec)\n",
            "INFO:tensorflow:global_step/sec: 1028.41\n",
            "INFO:tensorflow:loss = 0.011163931, step = 7801 (0.098 sec)\n",
            "INFO:tensorflow:global_step/sec: 1039.11\n",
            "INFO:tensorflow:loss = 0.007930835, step = 7901 (0.098 sec)\n",
            "INFO:tensorflow:global_step/sec: 1025.31\n",
            "INFO:tensorflow:loss = 0.01288875, step = 8001 (0.095 sec)\n",
            "INFO:tensorflow:global_step/sec: 1012.01\n",
            "INFO:tensorflow:loss = 0.014382326, step = 8101 (0.100 sec)\n",
            "INFO:tensorflow:global_step/sec: 976.232\n",
            "INFO:tensorflow:loss = 0.04076269, step = 8201 (0.102 sec)\n",
            "INFO:tensorflow:global_step/sec: 982.054\n",
            "INFO:tensorflow:loss = 0.011637552, step = 8301 (0.101 sec)\n",
            "INFO:tensorflow:global_step/sec: 1006.43\n",
            "INFO:tensorflow:loss = 0.58852077, step = 8401 (0.100 sec)\n",
            "INFO:tensorflow:global_step/sec: 980.468\n",
            "INFO:tensorflow:loss = 0.010432364, step = 8501 (0.104 sec)\n",
            "INFO:tensorflow:global_step/sec: 991.221\n",
            "INFO:tensorflow:loss = 0.016695023, step = 8601 (0.101 sec)\n",
            "INFO:tensorflow:global_step/sec: 1019.29\n",
            "INFO:tensorflow:loss = 0.0110273585, step = 8701 (0.097 sec)\n",
            "INFO:tensorflow:global_step/sec: 948.238\n",
            "INFO:tensorflow:loss = 0.023562172, step = 8801 (0.105 sec)\n",
            "INFO:tensorflow:global_step/sec: 973.418\n",
            "INFO:tensorflow:loss = 0.013954388, step = 8901 (0.105 sec)\n",
            "INFO:tensorflow:global_step/sec: 1016.35\n",
            "INFO:tensorflow:loss = 0.015166998, step = 9001 (0.097 sec)\n",
            "INFO:tensorflow:global_step/sec: 1000.48\n",
            "INFO:tensorflow:loss = 0.016491586, step = 9101 (0.100 sec)\n",
            "INFO:tensorflow:global_step/sec: 869.886\n",
            "INFO:tensorflow:loss = 0.95091194, step = 9201 (0.116 sec)\n",
            "INFO:tensorflow:global_step/sec: 1018.95\n",
            "INFO:tensorflow:loss = 0.029873027, step = 9301 (0.098 sec)\n",
            "INFO:tensorflow:global_step/sec: 1041.65\n",
            "INFO:tensorflow:loss = 0.0075161303, step = 9401 (0.096 sec)\n",
            "INFO:tensorflow:global_step/sec: 1012.18\n",
            "INFO:tensorflow:loss = 0.0043303194, step = 9501 (0.100 sec)\n",
            "INFO:tensorflow:global_step/sec: 919.205\n",
            "INFO:tensorflow:loss = 0.0046301475, step = 9601 (0.107 sec)\n",
            "INFO:tensorflow:global_step/sec: 923.233\n",
            "INFO:tensorflow:loss = 0.015577104, step = 9701 (0.109 sec)\n",
            "INFO:tensorflow:global_step/sec: 1014.35\n",
            "INFO:tensorflow:loss = 0.0044394727, step = 9801 (0.098 sec)\n",
            "INFO:tensorflow:global_step/sec: 990.929\n",
            "INFO:tensorflow:loss = 0.008933726, step = 9901 (0.104 sec)\n",
            "INFO:tensorflow:Saving checkpoints for 10000 into /tmp/linear_regression_trained_model/model.ckpt.\n",
            "INFO:tensorflow:Loss for final step: 0.0301841.\n",
            "WARNING:tensorflow:float64 is not supported by many models, consider casting to float32.\n",
            "INFO:tensorflow:Graph was finalized.\n",
            "INFO:tensorflow:Restoring parameters from /tmp/linear_regression_trained_model/model.ckpt-10000\n",
            "INFO:tensorflow:Running local_init_op.\n",
            "INFO:tensorflow:Done running local_init_op.\n",
            "LinearRegression has RMSE of 0.11911103141618458\n",
            "Just using average = 0.8225617684727009 has RMSE of 0.07505512652742069\n"
          ],
          "name": "stdout"
        }
      ]
    },
    {
      "cell_type": "code",
      "metadata": {
        "id": "S646OaU0R8UQ",
        "outputId": "098eaa86-90f8-477e-cff0-89fd0c9ea796",
        "colab": {
          "base_uri": "https://localhost:8080/",
          "height": 258
        }
      },
      "source": [
        "input = pd.DataFrame.from_dict(data = \n",
        "\t\t\t\t{'day' : [1,1,1],\n",
        "         'temp' : [61.8, 31.2, 77.0],\n",
        "         'wdsp' : [5.0, 3.0, 8.0]\n",
        "        })\n",
        "\t\t\t\t\t\n",
        "\n",
        "estimator = tf.contrib.learn.SKCompat(tf.contrib.learn.LinearRegressor(model_dir='/tmp/linear_regression_trained_model', enable_centered_bias=False, feature_columns=tf.contrib.learn.infer_real_valued_columns_from_input(input.values)))\n",
        "\n",
        "preds = estimator.predict(x=input.values)\n",
        "# Assume number of trips scale value is 600000 when at a maximum, based on the analysis from Tutorial 2\n",
        "predslistnorm = preds['scores']\n",
        "predslistscale = preds['scores']*600000\n",
        "prednorm = format(str(predslistnorm))\n",
        "pred = format(str(predslistscale))\n",
        "print(prednorm)\n",
        "print(pred)"
      ],
      "execution_count": 10,
      "outputs": [
        {
          "output_type": "stream",
          "text": [
            "WARNING:tensorflow:float64 is not supported by many models, consider casting to float32.\n",
            "INFO:tensorflow:Using default config.\n",
            "INFO:tensorflow:Using config: {'_task_type': None, '_task_id': 0, '_cluster_spec': <tensorflow.python.training.server_lib.ClusterSpec object at 0x7f3344865978>, '_master': '', '_num_ps_replicas': 0, '_num_worker_replicas': 0, '_environment': 'local', '_is_chief': True, '_evaluation_master': '', '_train_distribute': None, '_eval_distribute': None, '_experimental_max_worker_delay_secs': None, '_device_fn': None, '_tf_config': gpu_options {\n",
            "  per_process_gpu_memory_fraction: 1.0\n",
            "}\n",
            ", '_tf_random_seed': None, '_save_summary_steps': 100, '_save_checkpoints_secs': 600, '_log_step_count_steps': 100, '_protocol': None, '_session_config': None, '_save_checkpoints_steps': None, '_keep_checkpoint_max': 5, '_keep_checkpoint_every_n_hours': 10000, '_model_dir': '/tmp/linear_regression_trained_model', '_session_creation_timeout_secs': 7200}\n",
            "WARNING:tensorflow:float64 is not supported by many models, consider casting to float32.\n",
            "INFO:tensorflow:Graph was finalized.\n",
            "INFO:tensorflow:Restoring parameters from /tmp/linear_regression_trained_model/model.ckpt-10000\n",
            "INFO:tensorflow:Running local_init_op.\n",
            "INFO:tensorflow:Done running local_init_op.\n",
            "[0.6000136  0.68313324 0.5548212 ]\n",
            "[360008.16822052 409879.94670868 332892.71593094]\n"
          ],
          "name": "stdout"
        }
      ]
    },
    {
      "cell_type": "markdown",
      "metadata": {
        "id": "GsPQDn93UoDK"
      },
      "source": [
        "From test inputs we have used, the first element in the array here is similar to this actual data:\n",
        "\n",
        "\"165\",1,62.4,5.6,0.668458757342322\n",
        "\n",
        "We can see that the temperature is slightly higher in the test data (which means less trips, but slightly higher wind means more trips. So, the difference between (actual) 0.668 and (predicted) 0.576 (rounded to 3 significant figures) seems reasonable. \n",
        "\n",
        "Similarly with the second:\n",
        "\n",
        "\"389\",1,26.6,3.1,0.763954173062719, which has higher number of trips due to a lower temperature and also with a slightly higher wind speed.\n",
        "\n",
        "And with the third:\n",
        "\n",
        "\"571\",1,77.2,8.4,0.724652060408235\n",
        "\n",
        "The last prediction with the higher temperature seems to punish the values more. "
      ]
    },
    {
      "cell_type": "code",
      "metadata": {
        "id": "QqqseK8ZXoFD",
        "outputId": "4cc6060e-bb31-41c6-8cc7-c408e8aa15d7",
        "colab": {
          "base_uri": "https://localhost:8080/",
          "height": 258
        }
      },
      "source": [
        "input = pd.DataFrame.from_dict(data = \n",
        "\t\t\t\t{'day' : [6,6,6],\n",
        "         'temp' : [61.8, 31.2, 77.0],\n",
        "         'wdsp' : [5.0, 3.0, 8.0]\n",
        "        })\n",
        "\t\t\t\t\t\n",
        "\n",
        "estimator = tf.contrib.learn.SKCompat(tf.contrib.learn.LinearRegressor(model_dir='/tmp/linear_regression_trained_model', enable_centered_bias=False, feature_columns=tf.contrib.learn.infer_real_valued_columns_from_input(input.values)))\n",
        "\n",
        "preds = estimator.predict(x=input.values)\n",
        "# Assume number of trips scale value is 600000 when at a maximum, based on the analysis from Tutorial 2\n",
        "predslistnorm = preds['scores']\n",
        "predslistscale = preds['scores']*600000\n",
        "prednorm = format(str(predslistnorm))\n",
        "pred = format(str(predslistscale))\n",
        "print(prednorm)\n",
        "print(pred)"
      ],
      "execution_count": 11,
      "outputs": [
        {
          "output_type": "stream",
          "text": [
            "WARNING:tensorflow:float64 is not supported by many models, consider casting to float32.\n",
            "INFO:tensorflow:Using default config.\n",
            "INFO:tensorflow:Using config: {'_task_type': None, '_task_id': 0, '_cluster_spec': <tensorflow.python.training.server_lib.ClusterSpec object at 0x7f3342754278>, '_master': '', '_num_ps_replicas': 0, '_num_worker_replicas': 0, '_environment': 'local', '_is_chief': True, '_evaluation_master': '', '_train_distribute': None, '_eval_distribute': None, '_experimental_max_worker_delay_secs': None, '_device_fn': None, '_tf_config': gpu_options {\n",
            "  per_process_gpu_memory_fraction: 1.0\n",
            "}\n",
            ", '_tf_random_seed': None, '_save_summary_steps': 100, '_save_checkpoints_secs': 600, '_log_step_count_steps': 100, '_protocol': None, '_session_config': None, '_save_checkpoints_steps': None, '_keep_checkpoint_max': 5, '_keep_checkpoint_every_n_hours': 10000, '_model_dir': '/tmp/linear_regression_trained_model', '_session_creation_timeout_secs': 7200}\n",
            "WARNING:tensorflow:float64 is not supported by many models, consider casting to float32.\n",
            "INFO:tensorflow:Graph was finalized.\n",
            "INFO:tensorflow:Restoring parameters from /tmp/linear_regression_trained_model/model.ckpt-10000\n",
            "INFO:tensorflow:Running local_init_op.\n",
            "INFO:tensorflow:Done running local_init_op.\n",
            "[0.7834771  0.86659676 0.7382847 ]\n",
            "[470086.27653122 519958.05501938 442970.82424164]\n"
          ],
          "name": "stdout"
        }
      ]
    },
    {
      "cell_type": "markdown",
      "metadata": {
        "id": "UvHvR5o9Xus1"
      },
      "source": [
        "This test uses day 6 (Friday) instead of day 1 (Sunday) which shows higher number of trips. The other values were left the same."
      ]
    },
    {
      "cell_type": "markdown",
      "metadata": {
        "id": "jAXcF8Z7X4ra"
      },
      "source": [
        "Things to think about for the assignment. Make a validation set i.e. 5% of the data (or maybe more). This should be used for this type of testing. My values are simply made up.\n",
        "\n",
        "You should also remember to use different models with different data. In this case, I would maybe take each input valuable separately and make a regression model for each, then different variations i.e. any 2.\n",
        "\n",
        "Remember, you need to write up your results in the assignment. "
      ]
    }
  ]
}
