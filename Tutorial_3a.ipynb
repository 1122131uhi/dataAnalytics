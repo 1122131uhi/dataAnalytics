{
  "nbformat": 4,
  "nbformat_minor": 0,
  "metadata": {
    "colab": {
      "name": "Tutorial 3a.ipynb",
      "provenance": [],
      "collapsed_sections": [],
      "include_colab_link": true
    },
    "kernelspec": {
      "name": "python3",
      "display_name": "Python 3"
    }
  },
  "cells": [
    {
      "cell_type": "markdown",
      "metadata": {
        "id": "view-in-github",
        "colab_type": "text"
      },
      "source": [
        "<a href=\"https://colab.research.google.com/github/1122131uhi/dataAnalytics/blob/master/Tutorial_3a.ipynb\" target=\"_parent\"><img src=\"https://colab.research.google.com/assets/colab-badge.svg\" alt=\"Open In Colab\"/></a>"
      ]
    },
    {
      "cell_type": "markdown",
      "metadata": {
        "id": "4w9sEQx-NFJv"
      },
      "source": [
        "In this tutorial we will train and test a linear regressor. This is something you have already done in part 3 of the course document. So, I will miss out all of the extra notes and just get to business."
      ]
    },
    {
      "cell_type": "code",
      "metadata": {
        "id": "2p-7cPGENClE"
      },
      "source": [
        "# needed to create the data frame",
        "\n",
        "import pandas as pd",
        "\n",
        "\n",
        "# needed to help with speedy maths based calculations",
        "\n",
        "import numpy as np",
        "\n",
        "\n",
        "# create data frame from csv file we hosted on our github",
        "\n",
        "df = pd.read_csv('https://raw.githubusercontent.com/1122131uhi/dataAnalytics/master/tutorial2lineardata.csv', index_col=0, )"
      ],
      "execution_count": 1,
      "outputs": []
    },
    {
      "cell_type": "code",
      "metadata": {
        "id": "DEw-Y4JWNkh1",
        "outputId": "f2c084b5-4c15-4b7a-8cb0-30d47a7f0b16",
        "colab": {
          "base_uri": "https://localhost:8080/",
          "height": 136
        }
      },
      "source": [
        "# make sure we have our data by printing it out\n",
        "print(df[:6])\n",
        "# print(df) #all"
      ],
      "execution_count": 2,
      "outputs": []
    },
    {
      "cell_type": "code",
      "metadata": {
        "id": "U4FV9fPUOkvw",
        "outputId": "d48fc470-7ab8-4aab-a71e-e41c4b988448",
        "colab": {
          "base_uri": "https://localhost:8080/",
          "height": 136
        }
      },
      "source": [
        "# A scale is not required here, but the constant will be useful in the assignment. \n",
        "SCALE_NUM_TRIPS = 1.0"
      ],
      "execution_count": 3,
      "outputs": []
    },
    {
      "cell_type": "code",
      "metadata": {
        "id": "v-gahQCyO6BJ",
        "outputId": "b5caa785-1731-4a1a-8060-c7397892cadd",
        "colab": {
          "base_uri": "https://localhost:8080/",
          "height": 204
        }
      },
      "source": [
        "import tensorflow as tf \n",
        "\n",
        "from tensorflow import keras \n",
        "from tensorflow.keras import layers \n"
      ],
      "execution_count": 4,
      "outputs": []
    },
    {
      "cell_type": "code",
      "metadata": {
        "id": "hceMJGRGPPbl",
        "outputId": "73f3832b-c36a-44c9-f9f5-d7c968a5f20f",
        "colab": {
          "base_uri": "https://localhost:8080/",
          "height": 136
        }
      },
      "source": [
        "# create a dataframe with the inputs and the output at the end using the imported dataframe. This can be replicated for any configuration, in this case, I have gone for day, temp, wdsp \n",
        "df_input_data = [df["day"], df["temp"], df["wdsp"], df["NUM_TRIPS"]] \n",
        "# create headers for our new dataframe. These should correlate with the above. \n",
        "df_input_headers = ["day", "temp", "wdsp", "NUM_TRIPS"] \n",
        "# create a final dataframe using our new dataframe and headers. \n",
        "df_input = pd.concat(df_input_data, axis=1, keys=df_input_headers) \n"
      ],
      "execution_count": 5,
      "outputs": []
    },
    {
      "cell_type": "code",
      "metadata": {
        "id": "vTMxwMfGPdWJ"
      },
      "source": [
        "# construct a training set for runnign through the model and a test set, we do this by using sample with 0.8 for an 80% training set and 20% for test. \n",
        "training_set = df_input.sample(frac=0.8, random_state=0) \n",
        "test_set = df_input.drop(training_set.index)"
      ],
      "execution_count": 6,
      "outputs": []
    },
    {
      "cell_type": "code",
      "metadata": {
        "id": "xbgNNZYkPkCA"
      },
      "source": [
        "# copy the datasets and remove the final column, i.e. the output column. We do this using pop. \n",
        "training_features = training_set.copy() \n",
        "test_features = test_set.copy() \n",
        "\n",
        "training_labels = training_features.pop('NUM_TRIPS') \n",
        "test_labels = test_features.pop('NUM_TRIPS') \n"
      ],
      "execution_count": 7,
      "outputs": []
    },
    {
      "cell_type": "code",
      "metadata": {
        "id": "maFRZkDkQdpA",
        "outputId": "56052729-ede5-41fc-929f-ae0cda0419d0",
        "colab": {
          "base_uri": "https://localhost:8080/",
          "height": 1000
        }
      },
      "source": [
        "# Here I have put in a scale factor and divided by it. In this dataset, I had already normalised and thus it is 1. However, 600000 is what would make sense based on the data here and we can use this later when testing our model. \n",
        "training_labels = training_labels/SCALE_NUM_TRIPS \n",
        "test_labels = test_labels/SCALE_NUM_TRIPS"
      ],
      "execution_count": 9,
      "outputs": []
    },
    {
      "cell_type": "code",
      "metadata": {
        "id": "S646OaU0R8UQ",
        "outputId": "098eaa86-90f8-477e-cff0-89fd0c9ea796",
        "colab": {
          "base_uri": "https://localhost:8080/",
          "height": 258
        }
      },
      "source": [
        "# boiler plate for this model. You can see that we have used the training_features here for our normalisation layer that we try and fit to the outputs. \n",
        "normaliser = tf.keras.layers.Normalization(axis=-1) \n",
        "normaliser.adapt(np.array(training_features))"
      ],
      "execution_count": 10,
      "outputs": []
    },
    {
      "cell_type": "code",
      "metadata": {
        "id": "S646OaU0R8UQ",
        "outputId": "098eaa86-90f8-477e-cff0-89fd0c9ea796",
        "colab": {
          "base_uri": "https://localhost:8080/",
          "height": 258
        }
      },
      "source": [
        "# I have decided to call the model, model_1. We add our normaliser and we are expecting a single output. \n",
        "model_1 = tf.keras.Sequential([ \n",
        " normaliser, \n",
        " layers.Dense(units=1) \n",
        "])"
      ],
      "execution_count": 11,
      "outputs": []
    },
    {
      "cell_type": "code",
      "metadata": {
        "id": "S646OaU0R8UQ",
        "outputId": "098eaa86-90f8-477e-cff0-89fd0c9ea796",
        "colab": {
          "base_uri": "https://localhost:8080/",
          "height": 258
        }
      },
      "source": [
        "# more boiler plate for creating a sequential model, we need an optimiser and loss parameter. Here we are going to be using the mean absolute error MAE \n",
        "model_1.compile( \n",
        " optimizer=tf.optimizers.Adam(learning_rate=0.1), \n",
        " loss='mean_absolute_error') \n"
      ],
      "execution_count": 12,
      "outputs": []
    },
    {
      "cell_type": "code",
      "metadata": {
        "id": "S646OaU0R8UQ",
        "outputId": "098eaa86-90f8-477e-cff0-89fd0c9ea796",
        "colab": {
          "base_uri": "https://localhost:8080/",
          "height": 258
        }
      },
      "source": [
        "# now we are going to fit the model where we require the training features and labels. We will run it 100 times i.e. epochs and we have applied a further 20% validation split. \n",
        "\n",
        "%%time \n",
        "history = model_1.fit( \n",
        " training_features, \n",
        " training_labels, \n",
        " epochs=100, \n",
        " verbose=0, \n",
        " validation_split = 0.2) \n"
      ],
      "execution_count": 13,
      "outputs": []
    },
    {
      "cell_type": "code",
      "metadata": {
        "id": "S646OaU0R8UQ",
        "outputId": "098eaa86-90f8-477e-cff0-89fd0c9ea796",
        "colab": {
          "base_uri": "https://localhost:8080/",
          "height": 258
        }
      },
      "source": [
        "# Now, we will evaluate our model using the test features and labels. \n",
        "mean_absolute_error_model_1 = model_1.evaluate( \n",
        " test_features, \n",
        " test_labels, verbose=0) \n"
      ],
      "execution_count": 14,
      "outputs": []
    },
    {
      "cell_type": "code",
      "metadata": {
        "id": "S646OaU0R8UQ",
        "outputId": "098eaa86-90f8-477e-cff0-89fd0c9ea796",
        "colab": {
          "base_uri": "https://localhost:8080/",
          "height": 258
        }
      },
      "source": [
        "# The mean absolute error of the model can be printed out. Remember, we want to minimise this. Perhaps a model with just day and NUM_TRIPS would be better. It will also vary on each training run due to randomisation. \n",
        "print(mean_absolute_error_model_1)"
      ],
      "execution_count": 15,
      "outputs": []
    },
    {
      "cell_type": "code",
      "metadata": {
        "id": "S646OaU0R8UQ",
        "outputId": "098eaa86-90f8-477e-cff0-89fd0c9ea796",
        "colab": {
          "base_uri": "https://localhost:8080/",
          "height": 258
        }
      },
      "source": [
        "# we create a custom dataframe with 3 values per feature. \n",
        "input_1 = pd.DataFrame.from_dict(data = \n",
				" { \n",
        " 'day' : [1,1,1], \n",
        " 'temp' : [61.8, 31.2, 77.0], \n",
        " 'wdsp' : [5.0, 3.0, 8.0] \n",
        " })"
      ],
      "execution_count": 16,
      "outputs": []
    },
    {
      "cell_type": "code",
      "metadata": {
        "id": "S646OaU0R8UQ",
        "outputId": "098eaa86-90f8-477e-cff0-89fd0c9ea796",
        "colab": {
          "base_uri": "https://localhost:8080/",
          "height": 258
        }
      },
      "source": [
        "# next we can check this out, you can multiply by 600000 to get more realistic NUM_TRIPS values. \n",
        "linear_day_predictions_1 = model_1.predict(input_1[:3])*SCALE_NUM_TRIPS # essentially 600000 in this instance would give back realistic numbers based on the TAXI_TRIPS data \n",
        "print(linear_day_predictions_1)"
      ],
      "execution_count": 17,
      "outputs": []
    },
    {
      "cell_type": "markdown",
      "metadata": {
        "id": "GsPQDn93UoDK"
      },
      "source": [
        "From test inputs we have used, the first element in the array here is similar to this actual data:\n",
        "\n",
        "\"165\",1,62.4,5.6,0.668458757342322\n",
        "\n",
        "We can see that the temperature is slightly higher in the test data (which means less trips, but slightly higher wind means more trips. So, the difference between (actual) 0.668 and (predicted) 0.576 (rounded to 3 significant figures) seems reasonable. \n",
        "\n",
        "Similarly with the second:\n",
        "\n",
        "\"389\",1,26.6,3.1,0.763954173062719, which has higher number of trips due to a lower temperature and also with a slightly higher wind speed.\n",
        "\n",
        "And with the third:\n",
        "\n",
        "\"571\",1,77.2,8.4,0.724652060408235\n",
        "\n",
        "The last prediction with the higher temperature seems to punish the values more. "
      ]
    },
    {
      "cell_type": "code",
      "metadata": {
        "id": "QqqseK8ZXoFD",
        "outputId": "4cc6060e-bb31-41c6-8cc7-c408e8aa15d7",
        "colab": {
          "base_uri": "https://localhost:8080/",
          "height": 258
        }
      },
      "source": [
        "input_2 = pd.DataFrame.from_dict(data = \n",
        "\t\t\t\t{'day' : [6,6,6],\n",
        "         'temp' : [61.8, 31.2, 77.0],\n",
        "         'wdsp' : [5.0, 3.0, 8.0]\n",
        "        })\n",
        "\t\t\t\t\t\n"
      ],
      "execution_count": 18,
      "outputs": []
    },
    {
      "cell_type": "code",
      "metadata": {
        "id": "QqqseK8ZXoFD",
        "outputId": "4cc6060e-bb31-41c6-8cc7-c408e8aa15d7",
        "colab": {
          "base_uri": "https://localhost:8080/",
          "height": 258
        }
      },
      "source": [
        "linear_day_predictions_2 = model_1.predict(input_2[:3])*SCALE_NUM_TRIPS # essentially 600000 in this instance would give back realistic numbers based on the TAXI_TRIPS data \n",
        "print(linear_day_predictions_2)"
      ],
      "execution_count": 19,
      "outputs": []
    },
    {
      "cell_type": "markdown",
      "metadata": {
        "id": "UvHvR5o9Xus1"
      },
      "source": [
        "This test uses day 6 (Friday) instead of day 1 (Sunday) which shows higher number of trips. The other values were left the same."
      ]
    },
    {
      "cell_type": "markdown",
      "metadata": {
        "id": "jAXcF8Z7X4ra"
      },
      "source": [
        "Things to think about for the assignment. Make a validation set i.e. 5% of the data (or maybe more). This should be used for this type of testing. My values are simply made up.\n",
        "\n",
        "You should also remember to use different models with different data. In this case, I would maybe take each input valuable separately and make a regression model for each, then different variations i.e. any 2.\n",
        "\n",
        "Remember, you need to write up your results in the assignment. "
      ]
    }
  ]
}
